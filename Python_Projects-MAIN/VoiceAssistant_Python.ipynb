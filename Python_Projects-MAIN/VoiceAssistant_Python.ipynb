{
 "cells": [
  {
   "cell_type": "markdown",
   "id": "373ccd5a",
   "metadata": {},
   "source": [
    "## Personal Voice Assistant - Python Project"
   ]
  },
  {
   "cell_type": "markdown",
   "id": "45d6dfdf",
   "metadata": {},
   "source": [
    "### Importing Libraries"
   ]
  },
  {
   "cell_type": "code",
   "execution_count": 56,
   "id": "91555a8c",
   "metadata": {},
   "outputs": [],
   "source": [
    "import pyttsx3\n",
    "import datetime\n",
    "import speech_recognition as sr\n",
    "import pyaudio\n",
    "import wikipedia\n",
    "import webbrowser\n",
    "import os\n",
    "import nltk"
   ]
  },
  {
   "cell_type": "markdown",
   "id": "9ea3a5db",
   "metadata": {},
   "source": [
    "### Setting up TTS Engine"
   ]
  },
  {
   "cell_type": "code",
   "execution_count": 2,
   "id": "f371d119",
   "metadata": {},
   "outputs": [
    {
     "name": "stdout",
     "output_type": "stream",
     "text": [
      "[<pyttsx3.voice.Voice object at 0x00000228B6303C40>, <pyttsx3.voice.Voice object at 0x00000228B7EA8C10>]\n"
     ]
    }
   ],
   "source": [
    "engine = pyttsx3.init('sapi5')\n",
    "\n",
    "voices = engine.getProperty('voices')\n",
    "print(voices)"
   ]
  },
  {
   "cell_type": "code",
   "execution_count": 71,
   "id": "ce243e23",
   "metadata": {},
   "outputs": [
    {
     "name": "stdout",
     "output_type": "stream",
     "text": [
      "HKEY_LOCAL_MACHINE\\SOFTWARE\\Microsoft\\Speech\\Voices\\Tokens\\TTS_MS_EN-US_ZIRA_11.0\n"
     ]
    }
   ],
   "source": [
    "engine.setProperty('voice', voices[1].id)\n",
    "print(voices[1].id)"
   ]
  },
  {
   "cell_type": "markdown",
   "id": "94054f38",
   "metadata": {},
   "source": [
    "### Main Project Code:\n",
    "Naming of my Voice Assistant: June (Uses inbuilt Microsoft sapi5 voices - Zira)"
   ]
  },
  {
   "cell_type": "code",
   "execution_count": 72,
   "id": "dc706c26",
   "metadata": {},
   "outputs": [
    {
     "name": "stdout",
     "output_type": "stream",
     "text": [
      "My Name is June, How can i help you ?\n",
      "Listening...\n",
      "Recognizing...\n",
      "user said shut down\n",
      "\n",
      "Listening...\n",
      "Recognizing...\n",
      "user said shutdown\n",
      "\n",
      "Okay, Shutting down, do call me back if you need help with anything else. Have a great day sir.\n"
     ]
    }
   ],
   "source": [
    "def speak(audio):\n",
    "    engine.say(audio)\n",
    "    engine.runAndWait()\n",
    "    \n",
    "def greetMe():\n",
    "    hour = int(datetime.datetime.now().hour)\n",
    "    if hour >= 0 and hour < 12:\n",
    "        speak(\"Good Morning Sir\")\n",
    "        print(\"Good Morning Sir\")\n",
    "    elif hour >= 12 and hour < 16:\n",
    "        speak(\"Good Afternoon Sir\")\n",
    "    else:\n",
    "        speak(\"Good Evening\")\n",
    "        print(\"Good Evening Sir\")\n",
    "    print(\"My Name is June, How can i help you ?\")\n",
    "    speak(\"My Name is June, How can i help you ?\")\n",
    "    \n",
    "def listenCommand():\n",
    "    r = sr.Recognizer()\n",
    "    with sr.Microphone() as source:\n",
    "        print(\"Listening...\")\n",
    "        r.pause_threshold = 1\n",
    "        audio = r.listen(source)\n",
    "    try:\n",
    "        print(\"Recognizing...\")\n",
    "        query = r.recognize_google(audio, language='en-in')\n",
    "        print(f\"user said {query}\\n\")\n",
    "    except Exception as e:\n",
    "        print(\"Please say that again...\")\n",
    "        return \"None\"\n",
    "    return query\n",
    "\n",
    "\n",
    "if __name__ == '__main__':\n",
    "    greetMe()\n",
    "    while True:\n",
    "        query = listenCommand().lower()\n",
    "        \n",
    "        if 'hey june' in query:\n",
    "            speak('Yes sir, what can i do for you')\n",
    "            \n",
    "        elif 'who is' in query:\n",
    "            keyword = query.replace('who is', '')\n",
    "            #keyword = keyword.replace('who is', '')\n",
    "            while True:\n",
    "                print(f'Do you want me to search about {keyword}')\n",
    "                speak(f'Do you want me to search about {keyword}')\n",
    "                query_sec = listenCommand().lower()\n",
    "                if 'yes' in query_sec:\n",
    "                    print('Should I search up Google or Read from Wikipedia?')\n",
    "                    speak('Do you want me to look it up on google or read it for you from Wikipedia?')\n",
    "                    query_third = listenCommand().lower()\n",
    "                    if 'google' in query_third:\n",
    "                        speak(\"Okay, here are your Google results sir\")\n",
    "                        webbrowser.open(f'www.google.com/search?q={keyword}')\n",
    "                        break\n",
    "                    else:\n",
    "                        search_result = wikipedia.summary(keyword, sentences=2)\n",
    "                        speak('Heres what i found online, According to Wikipedia')\n",
    "                        print(search_result)\n",
    "                        speak(search_result)\n",
    "                        break\n",
    "                else:\n",
    "                    print('Oh, I am sorry, can you please say what do you want to search again?')\n",
    "                    speak('Oh, I am sorry, can you please say what do you want to search again?')\n",
    "                    break\n",
    "        \n",
    "        elif 'temperature' in query:\n",
    "            temp_loc = nltk.word_tokenize(query)\n",
    "            temp = webbrowser.open(f'https://duckduckgo.com/?q=temperature+in+{temp_loc[-1]}+today&t=brave&ia=weather')\n",
    "            speak(f\"Showing results for the current Temperature in {temp_loc[-1]}\")\n",
    "        \n",
    "        elif 'open' in query:\n",
    "            web_key = query.replace('open', '')\n",
    "            final_web_key = web_key.replace(' ', '')\n",
    "            speak(f'Okay, opening {final_web_key}')\n",
    "            print(f'Okay, opening {final_web_key}')\n",
    "            webbrowser.open(f'www.{final_web_key}.com')\n",
    "        \n",
    "        elif 'play music' in query:\n",
    "            speak(\"Playing your playlist\")\n",
    "            music_folder = \"C:\\\\Users\\\\HP\\\\Desktop\\\\music\"\n",
    "            songs = os.listdir(music_folder)\n",
    "            curr_song = os.startfile(os.path.join(music_folder, songs[0]))\n",
    "            print(f\"Playing {curr_song}\")\n",
    "        elif 'stop music' in query:\n",
    "            os.abort(curr_song)\n",
    "        \n",
    "        elif 'the time' in query:\n",
    "            curr_time = datetime.datetime.now().strftime(\"%H:%M:%S\")\n",
    "            print(f\"The time right now is {curr_time} Sir\")\n",
    "            speak(f\"The exact time right now is {curr_time} Sir\")\n",
    "            \n",
    "        elif 'shutdown' in query:\n",
    "            print('Okay, Shutting down, do call me back if you need help with anything else. Have a great day sir.')\n",
    "            speak('Okay, Shutting down, do call me back if you need help with anything else. Have a great day sir.')\n",
    "            break\n",
    "            "
   ]
  }
 ],
 "metadata": {
  "kernelspec": {
   "display_name": "Python 3",
   "language": "python",
   "name": "python3"
  },
  "language_info": {
   "codemirror_mode": {
    "name": "ipython",
    "version": 3
   },
   "file_extension": ".py",
   "mimetype": "text/x-python",
   "name": "python",
   "nbconvert_exporter": "python",
   "pygments_lexer": "ipython3",
   "version": "3.8.8"
  }
 },
 "nbformat": 4,
 "nbformat_minor": 5
}
