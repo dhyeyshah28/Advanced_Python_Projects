{
 "cells": [
  {
   "cell_type": "code",
   "execution_count": 2,
   "id": "fd5f5a80",
   "metadata": {},
   "outputs": [],
   "source": [
    "import random"
   ]
  },
  {
   "cell_type": "code",
   "execution_count": 3,
   "id": "257934ba",
   "metadata": {},
   "outputs": [],
   "source": [
    "# For Simplicity of programming, I would be assuming the input values of the Game Characters\n",
    "#(i.e Lady, Hunter & Tiger) to be 1, 2, & 3 Respectively."
   ]
  },
  {
   "cell_type": "markdown",
   "id": "f26da889",
   "metadata": {},
   "source": [
    "Lady = 1\n",
    "Hunter = 2\n",
    "Tiger = 3"
   ]
  },
  {
   "cell_type": "code",
   "execution_count": 4,
   "id": "3b92c8d8",
   "metadata": {},
   "outputs": [],
   "source": [
    "def game(comp, player):\n",
    "    if comp == player:\n",
    "        return None\n",
    "    elif comp == \"lady\":\n",
    "        if player == \"hunter\":\n",
    "            return False\n",
    "        elif player == \"tiger\":\n",
    "            return True\n",
    "    elif comp == \"hunter\":\n",
    "        if player == \"lady\":\n",
    "            return True\n",
    "        elif player == \"tiger\":\n",
    "            return False\n",
    "    elif comp == \"tiger\":\n",
    "        if player == \"lady\":\n",
    "            return False\n",
    "        elif player == \"hunter\":\n",
    "            return True"
   ]
  },
  {
   "cell_type": "code",
   "execution_count": 5,
   "id": "d2fbe08e",
   "metadata": {},
   "outputs": [],
   "source": [
    "i = 0\n",
    "j = 0"
   ]
  },
  {
   "cell_type": "code",
   "execution_count": 27,
   "id": "e35bb80f",
   "metadata": {},
   "outputs": [
    {
     "name": "stdout",
     "output_type": "stream",
     "text": [
      " Computer's Turn: Choosing Lady(1), Hunter(2), Tiger(3)... \n",
      " Your Turn: Choose Lady(1), Hunter(2), Tiger(3) !l\n",
      " Computer chose hunter\n",
      " You chose lady\n",
      " \n",
      " Hurray, You Won !\n",
      " TOTAL POINTS: You: 10 || Comp: 6\n",
      "Hurray You are the Champion !\n"
     ]
    }
   ],
   "source": [
    "print(\" Computer's Turn: Choosing Lady(1), Hunter(2), Tiger(3)... \")\n",
    "\n",
    "randNo = random.randint(1,3)\n",
    "if randNo == 1:\n",
    "    comp = 'lady'\n",
    "elif randNo == 2:\n",
    "    comp = 'hunter'\n",
    "elif randNo == 3:\n",
    "    comp = 'tiger'\n",
    "\n",
    "\n",
    "player = input(\" Your Turn: Choose Lady(1), Hunter(2), Tiger(3) !\")\n",
    "if player == 'l':\n",
    "    player = 'lady'\n",
    "elif player == 'h':\n",
    "    player = 'hunter'\n",
    "elif player == 't':\n",
    "    player = 'tiger'\n",
    "\n",
    "result = game(comp, player)\n",
    "\n",
    "print(f\" Computer chose {comp}\")\n",
    "print(f\" You chose {player}\")\n",
    "print(\" \")\n",
    "\n",
    "if result == None:\n",
    "    print(\" Game is Tied !\")\n",
    "    print(f\" TOTAL POINTS: You: {i} || Comp: {j}\")\n",
    "elif result == True:\n",
    "    print(\" Hurray, You Won !\")\n",
    "    i += 1\n",
    "    print(f\" TOTAL POINTS: You: {i} || Comp: {j}\")\n",
    "else:\n",
    "    print(\" Oops, You Lost !\")\n",
    "    j += 1\n",
    "    print(f\" TOTAL POINTS: You: {i} || Comp: {j}\")\n",
    "    \n",
    "if i == 10:\n",
    "    print(\"Hurray You are the Champion !\")\n",
    "elif j == 10:\n",
    "    print(\"Computer is the Champion !\")"
   ]
  },
  {
   "cell_type": "code",
   "execution_count": 21,
   "id": "6de55c1f",
   "metadata": {
    "scrolled": true
   },
   "outputs": [
    {
     "name": "stdout",
     "output_type": "stream",
     "text": [
      "True\n"
     ]
    }
   ],
   "source": [
    "print(result)"
   ]
  },
  {
   "cell_type": "code",
   "execution_count": null,
   "id": "9a359cc1",
   "metadata": {},
   "outputs": [],
   "source": []
  }
 ],
 "metadata": {
  "kernelspec": {
   "display_name": "Python 3 (ipykernel)",
   "language": "python",
   "name": "python3"
  },
  "language_info": {
   "codemirror_mode": {
    "name": "ipython",
    "version": 3
   },
   "file_extension": ".py",
   "mimetype": "text/x-python",
   "name": "python",
   "nbconvert_exporter": "python",
   "pygments_lexer": "ipython3",
   "version": "3.9.7"
  }
 },
 "nbformat": 4,
 "nbformat_minor": 5
}
