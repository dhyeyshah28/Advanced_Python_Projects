{
 "cells": [
  {
   "cell_type": "code",
   "execution_count": 1,
   "id": "69bcd441",
   "metadata": {},
   "outputs": [
    {
     "name": "stdout",
     "output_type": "stream",
     "text": [
      "Dhyey M Shah\n"
     ]
    }
   ],
   "source": [
    "print(\"Dhyey M Shah\")"
   ]
  },
  {
   "cell_type": "code",
   "execution_count": 2,
   "id": "2a4d8501",
   "metadata": {},
   "outputs": [
    {
     "name": "stdout",
     "output_type": "stream",
     "text": [
      "Requirement already satisfied: playsound in ./anaconda3/lib/python3.9/site-packages (1.3.0)\n",
      "Note: you may need to restart the kernel to use updated packages.\n"
     ]
    }
   ],
   "source": [
    "pip install playsound"
   ]
  },
  {
   "cell_type": "code",
   "execution_count": 3,
   "id": "dd7ac3a0",
   "metadata": {},
   "outputs": [
    {
     "name": "stderr",
     "output_type": "stream",
     "text": [
      "playsound is relying on another python subprocess. Please use `pip install pygobject` if you want playsound to run more efficiently.\n"
     ]
    }
   ],
   "source": [
    "import playsound"
   ]
  },
  {
   "cell_type": "code",
   "execution_count": 4,
   "id": "9ea8bd1b",
   "metadata": {},
   "outputs": [
    {
     "name": "stdout",
     "output_type": "stream",
     "text": [
      "5\n"
     ]
    },
    {
     "data": {
      "text/plain": [
       "int"
      ]
     },
     "execution_count": 4,
     "metadata": {},
     "output_type": "execute_result"
    }
   ],
   "source": [
    "a = 2\n",
    "b = 3\n",
    "print(a+b)\n",
    "(type(a+b))"
   ]
  },
  {
   "cell_type": "code",
   "execution_count": 5,
   "id": "46850ae1",
   "metadata": {},
   "outputs": [
    {
     "data": {
      "text/plain": [
       "True"
      ]
     },
     "execution_count": 5,
     "metadata": {},
     "output_type": "execute_result"
    }
   ],
   "source": [
    "a<b"
   ]
  },
  {
   "cell_type": "code",
   "execution_count": 6,
   "id": "fd3260ec",
   "metadata": {},
   "outputs": [
    {
     "data": {
      "text/plain": [
       "True"
      ]
     },
     "execution_count": 6,
     "metadata": {},
     "output_type": "execute_result"
    }
   ],
   "source": [
    "1<8"
   ]
  },
  {
   "cell_type": "code",
   "execution_count": 7,
   "id": "536f69b2",
   "metadata": {},
   "outputs": [
    {
     "name": "stdout",
     "output_type": "stream",
     "text": [
      "Enter your Birth year: 2000\n",
      "Your Age is  22\n"
     ]
    }
   ],
   "source": [
    "a = input(\"Enter your Birth year: \")\n",
    "a = int(a)\n",
    "b = 2022\n",
    "print(\"Your Age is \", b - a)"
   ]
  },
  {
   "cell_type": "code",
   "execution_count": 8,
   "id": "a6e5d52a",
   "metadata": {},
   "outputs": [
    {
     "data": {
      "text/plain": [
       "5"
      ]
     },
     "execution_count": 8,
     "metadata": {},
     "output_type": "execute_result"
    }
   ],
   "source": [
    "a = 'Dhyey'\n",
    "len(a)"
   ]
  },
  {
   "cell_type": "code",
   "execution_count": 9,
   "id": "61ae4036",
   "metadata": {},
   "outputs": [
    {
     "data": {
      "text/plain": [
       "'D'"
      ]
     },
     "execution_count": 9,
     "metadata": {},
     "output_type": "execute_result"
    }
   ],
   "source": [
    "a[0]"
   ]
  },
  {
   "cell_type": "code",
   "execution_count": 10,
   "id": "7f2e1423",
   "metadata": {},
   "outputs": [
    {
     "data": {
      "text/plain": [
       "'y'"
      ]
     },
     "execution_count": 10,
     "metadata": {},
     "output_type": "execute_result"
    }
   ],
   "source": [
    "a[-1]"
   ]
  },
  {
   "cell_type": "code",
   "execution_count": 11,
   "id": "7e1c16e6",
   "metadata": {},
   "outputs": [
    {
     "data": {
      "text/plain": [
       "'Dyy'"
      ]
     },
     "execution_count": 11,
     "metadata": {},
     "output_type": "execute_result"
    }
   ],
   "source": [
    "a[0:5:2]"
   ]
  },
  {
   "cell_type": "code",
   "execution_count": 12,
   "id": "0653cf4d",
   "metadata": {},
   "outputs": [
    {
     "data": {
      "text/plain": [
       "2"
      ]
     },
     "execution_count": 12,
     "metadata": {},
     "output_type": "execute_result"
    }
   ],
   "source": [
    "a.count('y')"
   ]
  },
  {
   "cell_type": "code",
   "execution_count": 13,
   "id": "eac38327",
   "metadata": {},
   "outputs": [
    {
     "data": {
      "text/plain": [
       "'Dhyey'"
      ]
     },
     "execution_count": 13,
     "metadata": {},
     "output_type": "execute_result"
    }
   ],
   "source": [
    "a.capitalize()"
   ]
  },
  {
   "cell_type": "code",
   "execution_count": 14,
   "id": "db1af752",
   "metadata": {},
   "outputs": [
    {
     "data": {
      "text/plain": [
       "2"
      ]
     },
     "execution_count": 14,
     "metadata": {},
     "output_type": "execute_result"
    }
   ],
   "source": [
    "a.find('y')"
   ]
  },
  {
   "cell_type": "code",
   "execution_count": 15,
   "id": "6e655652",
   "metadata": {},
   "outputs": [
    {
     "data": {
      "text/plain": [
       "'DhYeY'"
      ]
     },
     "execution_count": 15,
     "metadata": {},
     "output_type": "execute_result"
    }
   ],
   "source": [
    "a.replace('y','Y')"
   ]
  },
  {
   "cell_type": "code",
   "execution_count": 16,
   "id": "c3792d51",
   "metadata": {},
   "outputs": [],
   "source": [
    "list = [12, 6]"
   ]
  },
  {
   "cell_type": "code",
   "execution_count": 17,
   "id": "f7438715",
   "metadata": {},
   "outputs": [
    {
     "name": "stdout",
     "output_type": "stream",
     "text": [
      "[6, 12]\n"
     ]
    }
   ],
   "source": [
    "list.sort()\n",
    "print(list)"
   ]
  },
  {
   "cell_type": "code",
   "execution_count": 18,
   "id": "7387a1f0",
   "metadata": {},
   "outputs": [
    {
     "data": {
      "text/plain": [
       "[6, 12, 28]"
      ]
     },
     "execution_count": 18,
     "metadata": {},
     "output_type": "execute_result"
    }
   ],
   "source": [
    "l2 = 28\n",
    "list.append(l2)\n",
    "list"
   ]
  },
  {
   "cell_type": "code",
   "execution_count": 19,
   "id": "6ab47e80",
   "metadata": {},
   "outputs": [],
   "source": [
    "list.insert(2, 14)"
   ]
  },
  {
   "cell_type": "code",
   "execution_count": 20,
   "id": "d919e27a",
   "metadata": {},
   "outputs": [
    {
     "data": {
      "text/plain": [
       "[6, 12, 14, 28]"
      ]
     },
     "execution_count": 20,
     "metadata": {},
     "output_type": "execute_result"
    }
   ],
   "source": [
    "list"
   ]
  },
  {
   "cell_type": "code",
   "execution_count": 21,
   "id": "237c0c9b",
   "metadata": {},
   "outputs": [
    {
     "data": {
      "text/plain": [
       "[6, 12, 28]"
      ]
     },
     "execution_count": 21,
     "metadata": {},
     "output_type": "execute_result"
    }
   ],
   "source": [
    "list.pop(2)\n",
    "list"
   ]
  },
  {
   "cell_type": "code",
   "execution_count": 22,
   "id": "b6c61a9a",
   "metadata": {},
   "outputs": [
    {
     "data": {
      "text/plain": [
       "[6, 28]"
      ]
     },
     "execution_count": 22,
     "metadata": {},
     "output_type": "execute_result"
    }
   ],
   "source": [
    "list.remove(12)\n",
    "list"
   ]
  },
  {
   "cell_type": "code",
   "execution_count": 23,
   "id": "c2d003b4",
   "metadata": {},
   "outputs": [
    {
     "data": {
      "text/plain": [
       "34"
      ]
     },
     "execution_count": 23,
     "metadata": {},
     "output_type": "execute_result"
    }
   ],
   "source": [
    "sum(list)"
   ]
  },
  {
   "cell_type": "code",
   "execution_count": 24,
   "id": "f277cfe9",
   "metadata": {},
   "outputs": [
    {
     "name": "stdout",
     "output_type": "stream",
     "text": [
      "(1, 2, 3, 4, 1, 2, 5, 1, 6, 8)\n"
     ]
    }
   ],
   "source": [
    "tup = (1,2,3,4,1,2,5,1,6,8)\n",
    "print(tup)"
   ]
  },
  {
   "cell_type": "code",
   "execution_count": 25,
   "id": "f5f5c6c1",
   "metadata": {},
   "outputs": [
    {
     "data": {
      "text/plain": [
       "3"
      ]
     },
     "execution_count": 25,
     "metadata": {},
     "output_type": "execute_result"
    }
   ],
   "source": [
    "tup.count(1)"
   ]
  },
  {
   "cell_type": "code",
   "execution_count": 26,
   "id": "a63511fe",
   "metadata": {},
   "outputs": [
    {
     "data": {
      "text/plain": [
       "2"
      ]
     },
     "execution_count": 26,
     "metadata": {},
     "output_type": "execute_result"
    }
   ],
   "source": [
    "tup.index(3)"
   ]
  },
  {
   "cell_type": "code",
   "execution_count": 4,
   "id": "ef6b1f36",
   "metadata": {},
   "outputs": [
    {
     "name": "stdout",
     "output_type": "stream",
     "text": [
      "Enter name of fruit 1: apple\n",
      "Enter name of fruit 2: banana\n",
      "Enter name of fruit 3: orange\n",
      "Enter name of fruit 4: pineapple\n",
      "Enter name of fruit 5: grapes\n",
      "Enter name of fruit 6: guava\n",
      "Enter name of fruit 7: chikoo\n",
      "['apple', 'banana', 'orange', 'pineapple', 'grapes', 'guava', 'chikoo']\n"
     ]
    }
   ],
   "source": [
    "def put_fruits():\n",
    "    a = input(\"Enter name of fruit 1: \")\n",
    "    b = input(\"Enter name of fruit 2: \")\n",
    "    c = input(\"Enter name of fruit 3: \")\n",
    "    d = input(\"Enter name of fruit 4: \")\n",
    "    e = input(\"Enter name of fruit 5: \")\n",
    "    f = input(\"Enter name of fruit 6: \")\n",
    "    g = input(\"Enter name of fruit 7: \")\n",
    "    \n",
    "    fruit_basket = [a,b,c,d,e,f,g]\n",
    "    print(fruit_basket)\n",
    "put_fruits()"
   ]
  },
  {
   "cell_type": "code",
   "execution_count": 28,
   "id": "6ed872d6",
   "metadata": {},
   "outputs": [],
   "source": [
    "Dictionary = {'Name': 'Dhyey', \n",
    "               'Age': '22'}"
   ]
  },
  {
   "cell_type": "code",
   "execution_count": 29,
   "id": "f6d060e3",
   "metadata": {},
   "outputs": [
    {
     "name": "stdout",
     "output_type": "stream",
     "text": [
      "22\n"
     ]
    }
   ],
   "source": [
    "print(Dictionary['Age'])"
   ]
  },
  {
   "cell_type": "code",
   "execution_count": 30,
   "id": "a64cc9b6",
   "metadata": {},
   "outputs": [
    {
     "data": {
      "text/plain": [
       "dict_keys(['Name', 'Age'])"
      ]
     },
     "execution_count": 30,
     "metadata": {},
     "output_type": "execute_result"
    }
   ],
   "source": [
    "Dictionary.keys()"
   ]
  },
  {
   "cell_type": "code",
   "execution_count": 31,
   "id": "b47f7b21",
   "metadata": {},
   "outputs": [
    {
     "data": {
      "text/plain": [
       "dict_items([('Name', 'Dhyey'), ('Age', '22')])"
      ]
     },
     "execution_count": 31,
     "metadata": {},
     "output_type": "execute_result"
    }
   ],
   "source": [
    "Dictionary.items()"
   ]
  },
  {
   "cell_type": "code",
   "execution_count": 32,
   "id": "3bdec5ae",
   "metadata": {},
   "outputs": [
    {
     "data": {
      "text/plain": [
       "dict_values(['Dhyey', '22'])"
      ]
     },
     "execution_count": 32,
     "metadata": {},
     "output_type": "execute_result"
    }
   ],
   "source": [
    "Dictionary.values()"
   ]
  },
  {
   "cell_type": "code",
   "execution_count": 33,
   "id": "759e5753",
   "metadata": {},
   "outputs": [],
   "source": [
    "upd_dict = {'Gender': 'Male'}\n",
    "Dictionary.update(upd_dict)"
   ]
  },
  {
   "cell_type": "code",
   "execution_count": 34,
   "id": "b54b2fd6",
   "metadata": {},
   "outputs": [
    {
     "data": {
      "text/plain": [
       "{'Name': 'Dhyey', 'Age': '22', 'Gender': 'Male'}"
      ]
     },
     "execution_count": 34,
     "metadata": {},
     "output_type": "execute_result"
    }
   ],
   "source": [
    "Dictionary"
   ]
  },
  {
   "cell_type": "code",
   "execution_count": 35,
   "id": "256eaf81",
   "metadata": {},
   "outputs": [
    {
     "name": "stdout",
     "output_type": "stream",
     "text": [
      "Male\n"
     ]
    }
   ],
   "source": [
    "print(Dictionary.get('Gender'))"
   ]
  },
  {
   "cell_type": "code",
   "execution_count": 36,
   "id": "8b3be0b9",
   "metadata": {},
   "outputs": [
    {
     "data": {
      "text/plain": [
       "set"
      ]
     },
     "execution_count": 36,
     "metadata": {},
     "output_type": "execute_result"
    }
   ],
   "source": [
    "a = {1,2,3,4,1,1,1,1}\n",
    "type(a)"
   ]
  },
  {
   "cell_type": "code",
   "execution_count": 37,
   "id": "d55d5cf9",
   "metadata": {},
   "outputs": [
    {
     "name": "stdout",
     "output_type": "stream",
     "text": [
      "{1, 2, 3, 4}\n"
     ]
    }
   ],
   "source": [
    "print(a)"
   ]
  },
  {
   "cell_type": "code",
   "execution_count": 38,
   "id": "658208de",
   "metadata": {},
   "outputs": [
    {
     "data": {
      "text/plain": [
       "{2}"
      ]
     },
     "execution_count": 38,
     "metadata": {},
     "output_type": "execute_result"
    }
   ],
   "source": [
    "b = set()\n",
    "b.add(2)\n",
    "b"
   ]
  },
  {
   "cell_type": "code",
   "execution_count": 39,
   "id": "7c46c11a",
   "metadata": {},
   "outputs": [
    {
     "data": {
      "text/plain": [
       "{(1, 2, 3), 2}"
      ]
     },
     "execution_count": 39,
     "metadata": {},
     "output_type": "execute_result"
    }
   ],
   "source": [
    "b.add((1,2,3))\n",
    "b"
   ]
  },
  {
   "cell_type": "code",
   "execution_count": 40,
   "id": "29ebbb4d",
   "metadata": {},
   "outputs": [
    {
     "data": {
      "text/plain": [
       "{2}"
      ]
     },
     "execution_count": 40,
     "metadata": {},
     "output_type": "execute_result"
    }
   ],
   "source": [
    "b.remove((1,2,3))\n",
    "b"
   ]
  },
  {
   "cell_type": "code",
   "execution_count": 41,
   "id": "30a811fa",
   "metadata": {},
   "outputs": [
    {
     "name": "stdout",
     "output_type": "stream",
     "text": [
      "Enter no 1: 2\n",
      "Enter no 2: 3\n",
      "Enter no 3: 2\n",
      "{'2', '3'}\n"
     ]
    }
   ],
   "source": [
    "x = input(\"Enter no 1: \")\n",
    "y = input(\"Enter no 2: \")\n",
    "z = input(\"Enter no 3: \")\n",
    "w = {x,y,z}\n",
    "print(w)"
   ]
  },
  {
   "cell_type": "code",
   "execution_count": 42,
   "id": "404411a6",
   "metadata": {},
   "outputs": [
    {
     "data": {
      "text/plain": [
       "{'2', 2}"
      ]
     },
     "execution_count": 42,
     "metadata": {},
     "output_type": "execute_result"
    }
   ],
   "source": [
    "s = {2, \"2\", 2.0}\n",
    "s"
   ]
  },
  {
   "cell_type": "code",
   "execution_count": 43,
   "id": "1270eee8",
   "metadata": {},
   "outputs": [
    {
     "data": {
      "text/plain": [
       "11"
      ]
     },
     "execution_count": 43,
     "metadata": {},
     "output_type": "execute_result"
    }
   ],
   "source": [
    "5+6"
   ]
  },
  {
   "cell_type": "code",
   "execution_count": 44,
   "id": "1044be1a",
   "metadata": {},
   "outputs": [
    {
     "name": "stdout",
     "output_type": "stream",
     "text": [
      "Enter Marks for Subject No.1: 99\n",
      "Enter Marks for Subject No.2: 89\n",
      "Enter Marks for Subject No.3: 78\n",
      "Enter Marks for Subject No.4: 69\n",
      "Student is Pass\n"
     ]
    }
   ],
   "source": [
    "a = int(input(\"Enter Marks for Subject No.1: \"))\n",
    "b = int(input(\"Enter Marks for Subject No.2: \"))\n",
    "c = int(input(\"Enter Marks for Subject No.3: \"))\n",
    "d = int(input(\"Enter Marks for Subject No.4: \"))\n",
    "\n",
    "if (a>33 and b>33 and c>33 and d>33 and (a+b+c+d)/4 >= 40):\n",
    "    print(\"Student is Pass\")\n",
    "else:\n",
    "    print(\"Student has failed\")"
   ]
  },
  {
   "cell_type": "markdown",
   "id": "7fb59e5e",
   "metadata": {},
   "source": [
    "## REVIEW"
   ]
  },
  {
   "cell_type": "code",
   "execution_count": 45,
   "id": "2a1cb1ac",
   "metadata": {},
   "outputs": [
    {
     "name": "stdout",
     "output_type": "stream",
     "text": [
      "Enter your Text: buy now\n",
      "Text is Spam\n",
      "Text is NOT Spam\n",
      "Text is NOT Spam\n",
      "Text is NOT Spam\n",
      "Text is NOT Spam\n"
     ]
    }
   ],
   "source": [
    "spam_words = ['buy', 'free', 'sale', 'discount', 'fraud']\n",
    "\n",
    "text = input(\"Enter your Text: \")\n",
    "\n",
    "for word in spam_words:\n",
    "    if word in text:\n",
    "        print(\"Text is Spam\")\n",
    "    else:\n",
    "        print(\"Text is NOT Spam\")"
   ]
  },
  {
   "cell_type": "code",
   "execution_count": 1,
   "id": "0d978cef",
   "metadata": {},
   "outputs": [
    {
     "name": "stdout",
     "output_type": "stream",
     "text": [
      "Enter your username: shah\n",
      "username very short\n"
     ]
    }
   ],
   "source": [
    "a = input(\"Enter your username: \")\n",
    "if len(a)<5:\n",
    "    print(\"username very short\")\n",
    "else:\n",
    "    print(\"Thank you\")"
   ]
  },
  {
   "cell_type": "code",
   "execution_count": 3,
   "id": "c05a607d",
   "metadata": {},
   "outputs": [
    {
     "name": "stdout",
     "output_type": "stream",
     "text": [
      "0\n",
      "1\n",
      "2\n",
      "3\n",
      "4\n",
      "5\n",
      "6\n",
      "7\n",
      "8\n",
      "9\n",
      "10\n"
     ]
    }
   ],
   "source": [
    "i = 0\n",
    "while i<11:\n",
    "    print(i)\n",
    "    i+=1"
   ]
  },
  {
   "cell_type": "code",
   "execution_count": 9,
   "id": "81e91ba7",
   "metadata": {},
   "outputs": [
    {
     "name": "stdout",
     "output_type": "stream",
     "text": [
      "apple\n",
      "banana\n",
      "kiwi\n"
     ]
    }
   ],
   "source": [
    "fruits = ['apple', 'banana', 'kiwi']\n",
    "\n",
    "i = 0\n",
    "while i<len(fruits):\n",
    "    print(fruits[i])\n",
    "    i+=1"
   ]
  },
  {
   "cell_type": "code",
   "execution_count": 6,
   "id": "ddfed692",
   "metadata": {
    "scrolled": true
   },
   "outputs": [
    {
     "name": "stdout",
     "output_type": "stream",
     "text": [
      "apple\n",
      "banana\n",
      "kiwi\n"
     ]
    }
   ],
   "source": [
    "fruits = ['apple', 'banana', 'kiwi']\n",
    "\n",
    "for fruit in fruits:\n",
    "    print(fruit)"
   ]
  },
  {
   "cell_type": "code",
   "execution_count": 10,
   "id": "109204b7",
   "metadata": {},
   "outputs": [
    {
     "name": "stdout",
     "output_type": "stream",
     "text": [
      "0\n",
      "1\n",
      "2\n",
      "3\n",
      "4\n"
     ]
    }
   ],
   "source": [
    "for i in range(5):\n",
    "    print(i)"
   ]
  },
  {
   "cell_type": "code",
   "execution_count": 11,
   "id": "f7ad663d",
   "metadata": {},
   "outputs": [
    {
     "name": "stdout",
     "output_type": "stream",
     "text": [
      "5\n",
      "7\n",
      "9\n"
     ]
    }
   ],
   "source": [
    "for i in range(5,10,2):\n",
    "    print(i)"
   ]
  },
  {
   "cell_type": "code",
   "execution_count": 12,
   "id": "b428c0e6",
   "metadata": {},
   "outputs": [
    {
     "name": "stdout",
     "output_type": "stream",
     "text": [
      "apple\n",
      "banana\n",
      "kiwi\n",
      "done\n"
     ]
    }
   ],
   "source": [
    "fruits = ['apple', 'banana', 'kiwi']\n",
    "\n",
    "for fruit in fruits:\n",
    "    print(fruit)\n",
    "else:\n",
    "    print(\"done\")"
   ]
  },
  {
   "cell_type": "code",
   "execution_count": 13,
   "id": "fa0fb1e1",
   "metadata": {},
   "outputs": [
    {
     "name": "stdout",
     "output_type": "stream",
     "text": [
      "Enter a Number: 5\n",
      "5 X 1 = 5\n",
      "5 X 2 = 10\n",
      "5 X 3 = 15\n",
      "5 X 4 = 20\n",
      "5 X 5 = 25\n",
      "5 X 6 = 30\n",
      "5 X 7 = 35\n",
      "5 X 8 = 40\n",
      "5 X 9 = 45\n",
      "5 X 10 = 50\n"
     ]
    }
   ],
   "source": [
    "num = int(input(\"Enter a Number: \"))\n",
    "for i in range(1,11):\n",
    "    print(f\"{num} X {i} = {num*i}\")"
   ]
  },
  {
   "cell_type": "code",
   "execution_count": 1,
   "id": "8aec2e3a",
   "metadata": {},
   "outputs": [
    {
     "name": "stdout",
     "output_type": "stream",
     "text": [
      "Enter a Number: 5\n",
      "5 X 1 = 5\n",
      "5 X 2 = 10\n",
      "5 X 3 = 15\n",
      "5 X 4 = 20\n",
      "5 X 5 = 25\n",
      "5 X 6 = 30\n",
      "5 X 7 = 35\n",
      "5 X 8 = 40\n",
      "5 X 9 = 45\n",
      "5 X 10 = 50\n"
     ]
    }
   ],
   "source": [
    "num = int(input(\"Enter a Number: \"))\n",
    "i = 1\n",
    "while i<=10:\n",
    "    print(f\"{num} X {i} = {num*i}\")\n",
    "    i += 1"
   ]
  },
  {
   "cell_type": "code",
   "execution_count": 4,
   "id": "677c3d8a",
   "metadata": {},
   "outputs": [
    {
     "name": "stdout",
     "output_type": "stream",
     "text": [
      "Enter a Number: 5\n",
      "Factorial =  120\n"
     ]
    }
   ],
   "source": [
    "num = int(input(\"Enter a Number: \"))\n",
    "base = 1\n",
    "for i in range(1, num+1):\n",
    "    base = base*i\n",
    "print(\"Factorial = \", base)"
   ]
  },
  {
   "cell_type": "code",
   "execution_count": 9,
   "id": "01b7dd36",
   "metadata": {},
   "outputs": [
    {
     "name": "stdout",
     "output_type": "stream",
     "text": [
      "*\n",
      "**\n",
      "***\n"
     ]
    }
   ],
   "source": [
    "for i in range(3):\n",
    "    print('*' * (i+1))"
   ]
  },
  {
   "cell_type": "markdown",
   "id": "2dfdf3c6",
   "metadata": {},
   "source": [
    "## REVIEW"
   ]
  },
  {
   "cell_type": "code",
   "execution_count": 16,
   "id": "47538a17",
   "metadata": {},
   "outputs": [
    {
     "name": "stdout",
     "output_type": "stream",
     "text": [
      "***\n",
      "\n",
      "\n",
      "**\n",
      " \n",
      "****\n",
      "*\n",
      "  \n",
      "********\n"
     ]
    }
   ],
   "source": [
    "n = 4\n",
    "for i in range(3):\n",
    "    print(\"*\" * (n - i - 1))\n",
    "    print(\" \" * (1*i))\n",
    "    print(\"*\" * (n*i - ))"
   ]
  },
  {
   "cell_type": "code",
   "execution_count": 17,
   "id": "f9d94e20",
   "metadata": {},
   "outputs": [],
   "source": [
    "def fact(n):\n",
    "    fact = 1\n",
    "    for i in range(1,n+1):\n",
    "        fact = fact*i\n",
    "    print(fact)"
   ]
  },
  {
   "cell_type": "code",
   "execution_count": 24,
   "id": "0868aa6a",
   "metadata": {},
   "outputs": [],
   "source": [
    "def fact_rec(n):\n",
    "    if n == 1 or n == 0:\n",
    "        return 1\n",
    "    return(fact_rec(n-1)*n)"
   ]
  },
  {
   "cell_type": "code",
   "execution_count": 25,
   "id": "570da866",
   "metadata": {},
   "outputs": [
    {
     "data": {
      "text/plain": [
       "120"
      ]
     },
     "execution_count": 25,
     "metadata": {},
     "output_type": "execute_result"
    }
   ],
   "source": [
    "fact_rec(5)"
   ]
  },
  {
   "cell_type": "code",
   "execution_count": 15,
   "id": "b6cfabb1",
   "metadata": {},
   "outputs": [
    {
     "name": "stdout",
     "output_type": "stream",
     "text": [
      "Hello, this is a file reading test !\n",
      "\n"
     ]
    }
   ],
   "source": [
    "f = open('testpy.txt', 'r')\n",
    "data = f.read()\n",
    "print(data)\n",
    "f.close()"
   ]
  },
  {
   "cell_type": "code",
   "execution_count": 16,
   "id": "03febb3c",
   "metadata": {},
   "outputs": [],
   "source": [
    "f = open('testpy.txt', 'w')\n",
    "data = f.write(\"This is a file writing test !\")\n",
    "f.close()"
   ]
  },
  {
   "cell_type": "code",
   "execution_count": 17,
   "id": "c9729aca",
   "metadata": {},
   "outputs": [],
   "source": [
    "f = open('testpy.txt', 'a')\n",
    "data = f.write(\" This is a file apending test !\")\n",
    "f.close()"
   ]
  },
  {
   "cell_type": "code",
   "execution_count": 19,
   "id": "dc831b2a",
   "metadata": {},
   "outputs": [
    {
     "name": "stdout",
     "output_type": "stream",
     "text": [
      "This is a file writing test ! This is a file apending test !\n"
     ]
    }
   ],
   "source": [
    "with open('testpy.txt', 'r') as f:\n",
    "    print(f.read())"
   ]
  },
  {
   "cell_type": "code",
   "execution_count": 23,
   "id": "c92c3472",
   "metadata": {},
   "outputs": [
    {
     "name": "stdout",
     "output_type": "stream",
     "text": [
      "Test is present\n"
     ]
    }
   ],
   "source": [
    "f = open('testpy.txt', 'r')\n",
    "data = f.read()\n",
    "if 'test' in data:\n",
    "    print(\"Test is present\")\n",
    "f.close()"
   ]
  },
  {
   "cell_type": "code",
   "execution_count": 39,
   "id": "3b7b29ad",
   "metadata": {},
   "outputs": [
    {
     "name": "stdout",
     "output_type": "stream",
     "text": [
      " New High Score added !\n"
     ]
    }
   ],
   "source": [
    "new = 6\n",
    "\n",
    "with open('testpy.txt', 'r') as f:\n",
    "    previous = int(f.read())\n",
    "    \n",
    "if new > previous:\n",
    "    with open('testpy.txt', 'w') as f:\n",
    "        f.write(str(new))\n",
    "        print(\" New High Score added !\")"
   ]
  },
  {
   "cell_type": "code",
   "execution_count": 48,
   "id": "61d9adcb",
   "metadata": {},
   "outputs": [],
   "source": [
    "for i in range(1,100):\n",
    "    with open(f\"./Tables/Table for {i}.txt\", 'w') as f:\n",
    "        f.write(f\"Table for {i}: \\n\")\n",
    "        f.write(\" \\n\")\n",
    "        for j in range(1,11):\n",
    "            f.write(f\"{i} X {j} = {i*j}\")   \n",
    "            if j!=10:\n",
    "                f.write(\"\\n\")"
   ]
  },
  {
   "cell_type": "code",
   "execution_count": 66,
   "id": "76501856",
   "metadata": {},
   "outputs": [
    {
     "name": "stdout",
     "output_type": "stream",
     "text": [
      "Sucessfully censcored File !\n"
     ]
    }
   ],
   "source": [
    "list = ['Shit', 'negative', 'god']\n",
    "with open(\"testpy.txt\", 'r') as f:\n",
    "    data = f.read()\n",
    "    \n",
    "for word in list:    \n",
    "    if word in data.lower():\n",
    "        #new = data.replace('Shit', '****')\n",
    "        with open(\"testpy.txt\", 'w') as f:\n",
    "            f.write(data.replace(word, '*'*len(word)))\n",
    "print(\"Sucessfully censcored File !\")"
   ]
  },
  {
   "cell_type": "code",
   "execution_count": 5,
   "id": "0afb231b",
   "metadata": {},
   "outputs": [
    {
     "name": "stdout",
     "output_type": "stream",
     "text": [
      "The Name of Employee at Google is Dhyey and his Job Role is CEO\n"
     ]
    }
   ],
   "source": [
    "class programmer:\n",
    "    company = \"Google\"\n",
    "    \n",
    "    def __init__(self, name, jd):\n",
    "        self.name = name\n",
    "        self.jd = jd\n",
    "        \n",
    "    def printInfo(self):\n",
    "        print(f\"The Name of Employee at {programmer.company} is {self.name} and his Job Role is {self.jd}\")\n",
    "\n",
    "Employee1 = programmer(\"Dhyey\", \"CEO\")\n",
    "Employee1.printInfo()"
   ]
  },
  {
   "cell_type": "code",
   "execution_count": 18,
   "id": "75097c67",
   "metadata": {},
   "outputs": [
    {
     "name": "stdout",
     "output_type": "stream",
     "text": [
      "Square of number is 81\n"
     ]
    }
   ],
   "source": [
    "class calculator:\n",
    "    def __init__(self, num):\n",
    "        self.num = num\n",
    "    \n",
    "    def square(self):\n",
    "        print(f\"Square of number is {(self.num)*(self.num)}\")\n",
    "\n",
    "num1 = calculator(9)\n",
    "num1.square()"
   ]
  },
  {
   "cell_type": "markdown",
   "id": "be334dee",
   "metadata": {},
   "source": [
    "### REVIEW CANCEL TICKET FUNCTION!"
   ]
  },
  {
   "cell_type": "code",
   "execution_count": 47,
   "id": "15ef0380",
   "metadata": {},
   "outputs": [
    {
     "name": "stdout",
     "output_type": "stream",
     "text": [
      "I am an Animal and I am Dog\n",
      "I am an Animal and I am Dog of breed Pug\n"
     ]
    }
   ],
   "source": [
    "class Animals:\n",
    "    \n",
    "    def __init__(self, name):\n",
    "        self.name = name\n",
    "        print(f\"I am an Animal and I am {self.name}\")\n",
    "    def get_info(self, breed):\n",
    "        self.breed = breed\n",
    "        print(f\"I am an Animal and I am {self.name} of breed {self.breed}\")\n",
    "\n",
    "d = Animals(\"Dog\")\n",
    "d.get_info(\"Pug\")"
   ]
  },
  {
   "cell_type": "code",
   "execution_count": 1,
   "id": "445828b7",
   "metadata": {},
   "outputs": [],
   "source": [
    "import math\n",
    "import random"
   ]
  },
  {
   "cell_type": "code",
   "execution_count": 19,
   "id": "1e48e8e7",
   "metadata": {},
   "outputs": [
    {
     "name": "stdout",
     "output_type": "stream",
     "text": [
      "We have selected a Random Number from 1 to 10, Try to Guess it !\n",
      "Enter your Guessed Number: 2\n",
      "Oops, try a little higher\n",
      "You are very close, Keep Trying\n",
      "\n",
      "Enter your Guessed Number: 5\n",
      "Oops, try a little lower\n",
      "You are very close, Keep Trying\n",
      "\n",
      "Enter your Guessed Number: 4\n",
      "Oops, try a little lower\n",
      "You are very close, Keep Trying\n",
      "\n",
      "Enter your Guessed Number: 3\n",
      "Wohoo ! You Guessed the Number.\n",
      "You took 4 Turns to guess the correct Ans !\n"
     ]
    }
   ],
   "source": [
    "num = random.randint(1, 10)\n",
    "print(\"We have selected a Random Number from 1 to 10, Try to Guess it !\")\n",
    "j = 0\n",
    "\n",
    "for i in range(1,6):\n",
    "    user_inp = int(input(\"Enter your Guessed Number: \"))\n",
    "\n",
    "    if user_inp == num:\n",
    "        print(\"Wohoo ! You Guessed the Number.\")\n",
    "        print(f\"You took {i} Turns to guess the correct Ans !\")\n",
    "        j = 1\n",
    "        break\n",
    "    elif user_inp > num: \n",
    "        print(\"Oops, try a little lower\")\n",
    "        if abs(user_inp - num) < 3:\n",
    "            print(\"You are very close, Keep Trying\\n\")\n",
    "    elif user_inp < num:\n",
    "        print(\"Oops, try a little higher\")\n",
    "        if abs(user_inp - num) < 3:\n",
    "            print(\"You are very close, Keep Trying\\n\")\n",
    "if j == 0:\n",
    "    print(\"Your Tries are over, Play Again!\")\n",
    "    print(f\"The correct Number was {num}\")"
   ]
  },
  {
   "cell_type": "code",
   "execution_count": null,
   "id": "2443558d",
   "metadata": {},
   "outputs": [],
   "source": []
  }
 ],
 "metadata": {
  "kernelspec": {
   "display_name": "Python 3 (ipykernel)",
   "language": "python",
   "name": "python3"
  },
  "language_info": {
   "codemirror_mode": {
    "name": "ipython",
    "version": 3
   },
   "file_extension": ".py",
   "mimetype": "text/x-python",
   "name": "python",
   "nbconvert_exporter": "python",
   "pygments_lexer": "ipython3",
   "version": "3.9.7"
  }
 },
 "nbformat": 4,
 "nbformat_minor": 5
}
